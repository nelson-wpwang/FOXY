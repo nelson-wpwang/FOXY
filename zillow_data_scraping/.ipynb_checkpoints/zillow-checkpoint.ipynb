{
 "cells": [
  {
   "cell_type": "code",
   "execution_count": null,
   "metadata": {
    "collapsed": false
   },
   "outputs": [
    {
     "name": "stdout",
     "output_type": "stream",
     "text": [
      "photo: http://media.mlspin.com/photo.aspx?mls=72179501\n",
      "photo: http://media.mlspin.com/photo.aspx?mls=72179500\n",
      "photo: http://media.mlspin.com/photo.aspx?mls=72179489\n",
      "photo: http://media.mlspin.com/photo.aspx?mls=72179483\n",
      "Id:72179478,url:https://photos.zillowstatic.com/p_d/ISlu5vegk2rv480000000000.jpg\n",
      "Id:72179478,url:https://photos.zillowstatic.com/p_d/IS1jnthodc576t0000000000.jpg\n",
      "Id:72179478,url:https://photos.zillowstatic.com/p_d/ISli0zgslj0oet0000000000.jpg\n",
      "Id:72179478,url:https://photos.zillowstatic.com/p_d/IStclhzh94x96t0000000000.jpg\n",
      "Id:72179478,url:https://photos.zillowstatic.com/p_d/ISl6j5hb5woc6t0000000000.jpg\n",
      "photo: http://media.mlspin.com/photo.aspx?mls=72179476\n",
      "photo: http://media.mlspin.com/photo.aspx?mls=72179475\n",
      "photo: http://media.mlspin.com/photo.aspx?mls=72179469\n",
      "photo: http://media.mlspin.com/photo.aspx?mls=72179457\n",
      "photo: http://media.mlspin.com/photo.aspx?mls=72179454\n",
      "Id:72179453,url:https://photos.zillowstatic.com/p_d/ISuoiru6jk06ra0000000000.jpg\n",
      "photo: http://media.mlspin.com/photo.aspx?mls=72179448\n",
      "photo: http://media.mlspin.com/photo.aspx?mls=72179446\n",
      "photo: http://media.mlspin.com/photo.aspx?mls=72179443\n",
      "Id:72179442,url:https://photos.zillowstatic.com/p_d/ISplxt6ezldve51000000000.jpg\n",
      "Id:72179442,url:https://photos.zillowstatic.com/p_d/IShb0rf1n3w1x81000000000.jpg\n",
      "Id:72179442,url:https://photos.zillowstatic.com/p_d/IShjyakna3pox61000000000.jpg\n",
      "Id:72179442,url:https://photos.zillowstatic.com/p_d/IS95yexuivn4x81000000000.jpg\n",
      "Id:72179442,url:https://photos.zillowstatic.com/p_d/ISpxyywmey5di61000000000.jpg\n",
      "photo: http://media.mlspin.com/photo.aspx?mls=72179438\n",
      "photo: http://media.mlspin.com/photo.aspx?mls=72179431\n",
      "photo: http://media.mlspin.com/photo.aspx?mls=72179423\n",
      "Id:72179420,url:https://photos.zillowstatic.com/p_d/ISludlw149hz6c1000000000.jpg\n",
      "Id:72179420,url:https://photos.zillowstatic.com/p_d/ISx3tsjaezkixb1000000000.jpg\n",
      "Id:72179420,url:https://photos.zillowstatic.com/p_d/IShro4jx5j4oxb1000000000.jpg\n",
      "Id:72179420,url:https://photos.zillowstatic.com/p_d/IS9lms0r1bwqxb1000000000.jpg\n",
      "Id:72179420,url:https://photos.zillowstatic.com/p_d/ISl2gsh7pm7zxb1000000000.jpg\n",
      "photo: http://media.mlspin.com/photo.aspx?mls=72179415\n",
      "Id:72179412,url:https://photos.zillowstatic.com/p_d/IS95yyohaoid520000000000.jpg\n",
      "Id:72179412,url:https://photos.zillowstatic.com/p_d/ISlm3opf4nywxm0000000000.jpg\n",
      "Id:72179412,url:https://photos.zillowstatic.com/p_d/ISdg1c790fqzxm0000000000.jpg\n",
      "Id:72179412,url:https://photos.zillowstatic.com/p_d/IS5azzo2w6i2ym0000000000.jpg\n",
      "Id:72179412,url:https://photos.zillowstatic.com/p_d/ISx3xn6wry95ym0000000000.jpg\n",
      "Id:72179406,url:https://photos.zillowstatic.com/p_d/IS9aw3gcp6bwdf.jpg\n",
      "Id:72179403,url:https://photos.zillowstatic.com/p_d/IS1rrsi2dacxcpv.jpg\n",
      "Id:72179403,url:https://photos.zillowstatic.com/p_d/IS1rrsj5m0hkn1f.jpg\n",
      "Id:72179403,url:https://photos.zillowstatic.com/p_d/IS6awhis3yda5f.jpg\n",
      "Id:72179403,url:https://photos.zillowstatic.com/p_d/IS1rrsizsv7mtnn.jpg\n",
      "Id:72179403,url:https://photos.zillowstatic.com/p_d/IS6awhcv0m7ctf.jpg\n",
      "photo: http://media.mlspin.com/photo.aspx?mls=72179395\n",
      "photo: http://media.mlspin.com/photo.aspx?mls=72179394\n",
      "photo: http://media.mlspin.com/photo.aspx?mls=72179392\n",
      "photo: http://media.mlspin.com/photo.aspx?mls=72179391\n",
      "photo: http://media.mlspin.com/photo.aspx?mls=72179379\n",
      "photo: http://media.mlspin.com/photo.aspx?mls=72179375\n",
      "Id:72179372,url:https://photos.zillowstatic.com/p_d/ISh3e8ce0mkrm11000000000.jpg\n",
      "Id:72179372,url:https://photos.zillowstatic.com/p_d/ISp5tznqeqn0d21000000000.jpg\n",
      "Id:72179372,url:https://photos.zillowstatic.com/p_d/IShzqn5kaif3d21000000000.jpg\n",
      "Id:72179372,url:https://photos.zillowstatic.com/p_d/ISlam6v6fc0nj21000000000.jpg\n",
      "Id:72179372,url:https://photos.zillowstatic.com/p_d/ISdov4gx5ouj621000000000.jpg\n",
      "photo: http://media.mlspin.com/photo.aspx?mls=72179371\n",
      "photo: http://media.mlspin.com/photo.aspx?mls=72179367\n",
      "photo: http://media.mlspin.com/photo.aspx?mls=72179363\n",
      "photo: http://media.mlspin.com/photo.aspx?mls=72179361\n",
      "photo: http://media.mlspin.com/photo.aspx?mls=72179358\n",
      "photo: http://media.mlspin.com/photo.aspx?mls=72179340\n",
      "photo: http://media.mlspin.com/photo.aspx?mls=72179336\n",
      "photo: http://media.mlspin.com/photo.aspx?mls=72179333\n",
      "photo: http://media.mlspin.com/photo.aspx?mls=72179331\n",
      "photo: http://media.mlspin.com/photo.aspx?mls=72179326\n",
      "photo: http://media.mlspin.com/photo.aspx?mls=72179313\n",
      "Id:72179307,url:https://photos.zillowstatic.com/p_d/IS5ih751u4fr3a0000000000.jpg\n",
      "photo: http://media.mlspin.com/photo.aspx?mls=72179302\n",
      "photo: http://media.mlspin.com/photo.aspx?mls=72179300\n",
      "Id:72179296,url:https://photos.zillowstatic.com/p_d/IS-5vjho4a2fk2l.jpg\n",
      "photo: http://media.mlspin.com/photo.aspx?mls=72179288\n",
      "photo: http://media.mlspin.com/photo.aspx?mls=72179279\n",
      "photo: http://media.mlspin.com/photo.aspx?mls=72179244\n",
      "photo: http://media.mlspin.com/photo.aspx?mls=72179243\n",
      "Id:72179238,url:https://photos.zillowstatic.com/p_d/IS5i95muzittgb1000000000.jpg\n",
      "Id:72179238,url:https://photos.zillowstatic.com/p_d/IS529ugp2veyka1000000000.jpg\n",
      "Id:72179238,url:https://photos.zillowstatic.com/p_d/IS5iptv21ucnla1000000000.jpg\n",
      "Id:72179238,url:https://photos.zillowstatic.com/p_d/ISxv6iyiym61la1000000000.jpg\n",
      "Id:72179238,url:https://photos.zillowstatic.com/p_d/ISpp46gcuey3la1000000000.jpg\n",
      "photo: http://media.mlspin.com/photo.aspx?mls=72179236\n",
      "photo: http://media.mlspin.com/photo.aspx?mls=72179226\n",
      "Id:72179223,url:https://photos.zillowstatic.com/p_d/IS956xs9gkdy161000000000.jpg\n",
      "Id:72179223,url:https://photos.zillowstatic.com/p_d/IS1v8ic15yhvwi1000000000.jpg\n",
      "Id:72179223,url:https://photos.zillowstatic.com/p_d/ISto66uu0q9ywi1000000000.jpg\n",
      "Id:72179223,url:https://photos.zillowstatic.com/p_d/ISli4ubowh11xi1000000000.jpg\n",
      "Id:72179223,url:https://photos.zillowstatic.com/p_d/ISdc2iths9t3xi1000000000.jpg\n"
     ]
    }
   ],
   "source": [
    "import urllib\n",
    "from bs4 import BeautifulSoup\n",
    "import csv\n",
    "import pandas as pd\n",
    "import os\n",
    "import time\n",
    "\n",
    "info = pd.read_csv('LightningExport.csv',low_memory=False)\n",
    "info = info.iloc[:,:38]\n",
    "zillow_id = info.MLSNUM.values\n",
    "#photo_url = data.PHOTOURL.values\n",
    "#url = data.PHOTOURL.where(data.MLSNUM = id_)\n",
    "curry = 'X1-ZWz1g57lz6t5vv_10irx'\n",
    "#X1-ZWz1g5dqynfb4b_5dugt nelson's key\n",
    "for id_ in zillow_id[1000:2000]:\n",
    "    url = 'http://www.zillow.com/webservice/GetUpdatedPropertyDetails.htm?zws-id=X1-ZWz1g5dqynfb4b_5dugt&zpid='+str(id_)\n",
    "    #zillow api url\n",
    "    data = urllib.request.urlopen(url)\n",
    "    xml = BeautifulSoup(data,'xml')\n",
    "    if not os.path.exists('photo/{}'.format(id_)):\n",
    "        os.makedirs('photo/{}'.format(id_))  #to create a folder named after zillow_id if it didn't exist \n",
    "    if xml.find_all('url') == []:\n",
    "        url_csv =info.PHOTOURL.where(info.MLSNUM ==id_ ).dropna().values[0]   #find the photo_url where zillow_id=csv MLSUM\n",
    "        photo_set = os.path.join('photo/{}'.format(id_),'{}.jpg'.format(str(url_csv)[-8:]))\n",
    "        urllib.request.urlretrieve(url_csv,photo_set)\n",
    "        #print('{} has no url links'.format(id_))\n",
    "        print('photo:',url_csv)\n",
    "    else:\n",
    "        urltext = []\n",
    "        for url in xml.find_all('url'):\n",
    "            #print('{} has url links:{}'.format(id_,url.text))\n",
    "            urltext.append(url.text)\n",
    "        #print(urltext)\n",
    "        for img_url in urltext:            \n",
    "            photo_set = os.path.join('photo/{}'.format(id_),'{}_{}.jpg'.format(id_,urltext.index(img_url)))\n",
    "            urllib.request.urlretrieve(img_url,photo_set) \n",
    "            print('Id:{},url:{}'.format(id_,img_url))\n",
    "    time.sleep(0.2)  #delay \n",
    "\n",
    "\n"
   ]
  },
  {
   "cell_type": "code",
   "execution_count": 59,
   "metadata": {
    "collapsed": false
   },
   "outputs": [
    {
     "data": {
      "text/plain": [
       "(array([999]),)"
      ]
     },
     "execution_count": 59,
     "metadata": {},
     "output_type": "execute_result"
    }
   ],
   "source": [
    "import numpy as np\n",
    "zillow_id\n",
    "idx = np.where(zillow_id == 72179535)\n",
    "idx"
   ]
  },
  {
   "cell_type": "code",
   "execution_count": null,
   "metadata": {
    "collapsed": true
   },
   "outputs": [],
   "source": []
  }
 ],
 "metadata": {
  "anaconda-cloud": {},
  "kernelspec": {
   "display_name": "Python [default]",
   "language": "python",
   "name": "python3"
  },
  "language_info": {
   "codemirror_mode": {
    "name": "ipython",
    "version": 3
   },
   "file_extension": ".py",
   "mimetype": "text/x-python",
   "name": "python",
   "nbconvert_exporter": "python",
   "pygments_lexer": "ipython3",
   "version": "3.5.2"
  }
 },
 "nbformat": 4,
 "nbformat_minor": 2
}
